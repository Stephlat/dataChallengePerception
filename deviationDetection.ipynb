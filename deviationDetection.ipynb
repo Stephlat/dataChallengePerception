{
 "cells": [
  {
   "cell_type": "code",
   "execution_count": 1,
   "metadata": {},
   "outputs": [],
   "source": [
    "import pandas as pd\n",
    "import numpy as np\n"
   ]
  },
  {
   "cell_type": "code",
   "execution_count": 4,
   "metadata": {},
   "outputs": [],
   "source": [
    "path = \"../../dataChallenge/Scenario03-01/\"\n",
    "name_gnd = \"groundTruth.txt\"\n",
    "name_det = \"detections.txt\"\n",
    "\n",
    "gnd = pd.read_csv(path+name_gnd, sep = \" \", header = None)\n",
    "det = pd.read_csv(path+name_det, sep = \" \", header = None)\n"
   ]
  },
  {
   "cell_type": "code",
   "execution_count": 7,
   "metadata": {},
   "outputs": [
    {
     "name": "stdout",
     "output_type": "stream",
     "text": [
      "7722\n",
      "7680\n"
     ]
    }
   ],
   "source": [
    "print(len(gnd))\n",
    "print(len(det))"
   ]
  },
  {
   "cell_type": "code",
   "execution_count": 16,
   "metadata": {},
   "outputs": [],
   "source": [
    "import collections\n",
    "G = collections.Counter(gnd.iloc[:,0])\n",
    "H = collections.Counter(det.iloc[:,0])"
   ]
  },
  {
   "cell_type": "code",
   "execution_count": 28,
   "metadata": {},
   "outputs": [
    {
     "name": "stdout",
     "output_type": "stream",
     "text": [
      "(3, 4, 10L, 0.3333333333333333)\n",
      "(3, 5, 1308L, 43.6)\n",
      "(3, 2, 1309L, 43.63333333333333)\n",
      "(3, 2, 1310L, 43.666666666666664)\n",
      "(3, 2, 1311L, 43.7)\n",
      "(3, 2, 1312L, 43.733333333333334)\n",
      "(3, 2, 1313L, 43.766666666666666)\n",
      "(3, 2, 1314L, 43.8)\n",
      "(3, 2, 1315L, 43.833333333333336)\n",
      "(3, 2, 1316L, 43.86666666666667)\n",
      "(3, 2, 1317L, 43.9)\n",
      "(3, 2, 1318L, 43.93333333333333)\n",
      "(3, 2, 1319L, 43.96666666666667)\n",
      "(3, 2, 1320L, 44.0)\n",
      "(3, 2, 1321L, 44.03333333333333)\n",
      "(3, 2, 1322L, 44.06666666666667)\n",
      "(3, 2, 1323L, 44.1)\n",
      "(3, 2, 1324L, 44.13333333333333)\n",
      "(3, 2, 2235L, 74.5)\n",
      "(3, 2, 2236L, 74.53333333333333)\n",
      "(3, 2, 2237L, 74.56666666666666)\n",
      "(3, 2, 2238L, 74.6)\n",
      "(3, 2, 2239L, 74.63333333333334)\n",
      "(3, 2, 2240L, 74.66666666666667)\n",
      "(3, 2, 2241L, 74.7)\n",
      "(3, 2, 2242L, 74.73333333333333)\n",
      "(3, 2, 2243L, 74.76666666666667)\n",
      "(3, 2, 2244L, 74.8)\n",
      "(3, 2, 2245L, 74.83333333333333)\n",
      "(3, 2, 2246L, 74.86666666666666)\n",
      "(3, 2, 2247L, 74.9)\n",
      "(3, 2, 2248L, 74.93333333333334)\n",
      "(3, 2, 2249L, 74.96666666666667)\n",
      "(3, 2, 2250L, 75.0)\n",
      "(3, 2, 2251L, 75.03333333333333)\n",
      "(3, 2, 2252L, 75.06666666666666)\n",
      "(3, 2, 2253L, 75.1)\n",
      "(3, 2, 2254L, 75.13333333333334)\n",
      "(3, 2, 2255L, 75.16666666666667)\n",
      "(3, 2, 2256L, 75.2)\n",
      "(3, 2, 2257L, 75.23333333333333)\n",
      "(3, 2, 2270L, 75.66666666666667)\n",
      "(3, 2, 2271L, 75.7)\n",
      "(3, 2, 2272L, 75.73333333333333)\n",
      "(3, 2, 2273L, 75.76666666666667)\n",
      "(3, 2, 2274L, 75.8)\n",
      "(3, 2, 2275L, 75.83333333333333)\n",
      "(3, 2, 2276L, 75.86666666666666)\n",
      "(3, 2, 2277L, 75.9)\n",
      "(3, 2, 2278L, 75.93333333333334)\n",
      "(3, 2, 2279L, 75.96666666666667)\n",
      "(3, 4, 2284L, 76.13333333333334)\n",
      "(0, 3, 2575L, 85.83333333333333)\n"
     ]
    },
    {
     "data": {
      "text/plain": [
       "<pandas.core.indexing._iLocIndexer at 0x8d5e818>"
      ]
     },
     "execution_count": 28,
     "metadata": {},
     "output_type": "execute_result"
    }
   ],
   "source": [
    "for k in H.keys():\n",
    "    if G[k] != H[k]:\n",
    "        print(G[k], H[k],k,k/30.0)\n",
    "27.0/45, 43.0/74\n",
    "gnd.iloc"
   ]
  },
  {
   "cell_type": "code",
   "execution_count": null,
   "metadata": {},
   "outputs": [],
   "source": []
  }
 ],
 "metadata": {
  "kernelspec": {
   "display_name": "Python 2",
   "language": "python",
   "name": "python2"
  },
  "language_info": {
   "codemirror_mode": {
    "name": "ipython",
    "version": 2
   },
   "file_extension": ".py",
   "mimetype": "text/x-python",
   "name": "python",
   "nbconvert_exporter": "python",
   "pygments_lexer": "ipython2",
   "version": "2.7.16"
  }
 },
 "nbformat": 4,
 "nbformat_minor": 2
}
