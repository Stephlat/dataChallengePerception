{
 "cells": [
  {
   "cell_type": "markdown",
   "metadata": {},
   "source": [
    "### Replicate random assignations of labels to sequences and plot metrics distribution"
   ]
  },
  {
   "cell_type": "code",
   "execution_count": 12,
   "metadata": {},
   "outputs": [],
   "source": [
    "import os\n",
    "import numpy as np\n",
    "\n",
    "# home_dir = os.environ['HOME']\n",
    "# challenge_path = home_dir + os.sep + \"tmp\" +os.sep + \"Msiam\" + os.sep\n",
    "# challenge_path += \"DataChallenge\" + os.sep + \"2017-2018\" + os.sep + \"ScriptsJB\"\n",
    "\n",
    "# os.chdir(challenge_path)\n",
    "\n",
    "from random_assignation import *\n",
    "\n",
    "import sys\n",
    "sys.path += [\".\" + os.sep + \"../metric\"]\n",
    "\n",
    "from compute_metric import *"
   ]
  },
  {
   "cell_type": "markdown",
   "metadata": {},
   "source": [
    "#### Choose test sequence"
   ]
  },
  {
   "cell_type": "code",
   "execution_count": 13,
   "metadata": {},
   "outputs": [],
   "source": [
    "scenario = \"Scenario03-05\""
   ]
  },
  {
   "cell_type": "code",
   "execution_count": 14,
   "metadata": {},
   "outputs": [],
   "source": [
    "input_dir = \"C:\\\\Users\\\\sebbe\\\\OneDrive\\\\Dokument\\\\GitHub\\\\dataChallenge\\\\\" + scenario\n",
    "\n",
    "read_nb_speakers=True"
   ]
  },
  {
   "cell_type": "markdown",
   "metadata": {},
   "source": [
    "#### Parse detections.txt"
   ]
  },
  {
   "cell_type": "code",
   "execution_count": 15,
   "metadata": {},
   "outputs": [],
   "source": [
    "nb_speakers_from_file, nb_persons_frame, contents, frame_id, \\\n",
    "           nb_persons_changes = parse_detections(input_dir, read_nb_speakers)"
   ]
  },
  {
   "cell_type": "markdown",
   "metadata": {},
   "source": [
    "#### Try several examples of random label generation"
   ]
  },
  {
   "cell_type": "markdown",
   "metadata": {},
   "source": [
    "###### Generate random labels and speech utterance"
   ]
  },
  {
   "cell_type": "code",
   "execution_count": 16,
   "metadata": {},
   "outputs": [
    {
     "ename": "NameError",
     "evalue": "name 'print_metrics' is not defined",
     "output_type": "error",
     "traceback": [
      "\u001b[1;31m---------------------------------------------------------------------------\u001b[0m",
      "\u001b[1;31mNameError\u001b[0m                                 Traceback (most recent call last)",
      "\u001b[1;32m<ipython-input-16-5f31e6a3d8c1>\u001b[0m in \u001b[0;36m<module>\u001b[1;34m()\u001b[0m\n\u001b[0;32m      2\u001b[0m                        speech_prob=0.5)\n\u001b[0;32m      3\u001b[0m \u001b[1;33m\u001b[0m\u001b[0m\n\u001b[1;32m----> 4\u001b[1;33m \u001b[0mprint_metrics\u001b[0m\u001b[1;33m(\u001b[0m\u001b[0minput_dir\u001b[0m \u001b[1;33m+\u001b[0m \u001b[0mos\u001b[0m\u001b[1;33m.\u001b[0m\u001b[0msep\u001b[0m \u001b[1;33m+\u001b[0m \u001b[1;34m\"groundTruth.txt\"\u001b[0m\u001b[1;33m,\u001b[0m \u001b[0minput_dir\u001b[0m \u001b[1;33m+\u001b[0m \u001b[0mos\u001b[0m\u001b[1;33m.\u001b[0m\u001b[0msep\u001b[0m \u001b[1;33m+\u001b[0m \u001b[1;34m\"independent_random_predictions.txt\"\u001b[0m\u001b[1;33m)\u001b[0m\u001b[1;33m\u001b[0m\u001b[0m\n\u001b[0m",
      "\u001b[1;31mNameError\u001b[0m: name 'print_metrics' is not defined"
     ]
    }
   ],
   "source": [
    "independent_simulation(input_dir, nb_persons_frame, contents, frame_id, \n",
    "                       speech_prob=0.5)\n",
    "\n",
    "print_metrics(input_dir + os.sep + \"groundTruth.txt\", input_dir + os.sep + \"independent_random_predictions.txt\")"
   ]
  },
  {
   "cell_type": "code",
   "execution_count": 6,
   "metadata": {},
   "outputs": [
    {
     "name": "stdout",
     "output_type": "stream",
     "text": [
      "reading GT file\n",
      "reading result file\n",
      "MOTA\n",
      "0.921618418825\n",
      "MOTP\n",
      "0.00902244079875\n",
      "SA\n",
      "0.580634162973\n",
      "MOTSA\n",
      "0.505163365499\n"
     ]
    }
   ],
   "source": [
    "dependent_simulation(input_dir, nb_persons_frame, contents, frame_id, \n",
    "                     nb_persons_changes, speech_change_prob=0.5)\n",
    "\n",
    "print_metrics(input_dir + os.sep + \"groundTruth.txt\", input_dir + os.sep + \"dependent_random_predictions.txt\")"
   ]
  },
  {
   "cell_type": "markdown",
   "metadata": {},
   "source": [
    "###### Random permutation of labels"
   ]
  },
  {
   "cell_type": "code",
   "execution_count": 7,
   "metadata": {},
   "outputs": [
    {
     "name": "stdout",
     "output_type": "stream",
     "text": [
      "reading GT file\n",
      "reading result file\n",
      "MOTA\n",
      "1.0\n",
      "MOTP\n",
      "0.0\n",
      "SA\n",
      "1.0\n",
      "MOTSA\n",
      "1.0\n"
     ]
    }
   ],
   "source": [
    "# Parse GroundTruth.txt\n",
    "nb_speakers_from_file, nb_persons_frame, contents, frame_id, \\\n",
    "           nb_persons_changes = parse_detections(input_dir, True, False)\n",
    "\n",
    "permute_ground_truth(input_dir, contents)\n",
    "print_metrics(input_dir + os.sep + \"groundTruth.txt\", input_dir + os.sep + \"permuted_groundTruth.txt\")"
   ]
  },
  {
   "cell_type": "markdown",
   "metadata": {},
   "source": [
    "### Monte-Carlo evaluation of independent_simulation"
   ]
  },
  {
   "cell_type": "code",
   "execution_count": 8,
   "metadata": {},
   "outputs": [],
   "source": [
    "nb_sim = 1000"
   ]
  },
  {
   "cell_type": "code",
   "execution_count": 9,
   "metadata": {},
   "outputs": [
    {
     "name": "stdout",
     "output_type": "stream",
     "text": [
      "Finished replicate 1\n",
      "Finished replicate 101\n",
      "Finished replicate 201\n",
      "Finished replicate 301\n",
      "Finished replicate 401\n",
      "Finished replicate 501\n",
      "Finished replicate 601\n",
      "Finished replicate 701\n",
      "Finished replicate 801\n",
      "Finished replicate 901\n"
     ]
    }
   ],
   "source": [
    "li_MOTSA = [-1.] * nb_sim\n",
    "li_MOTA = [-1.] * nb_sim\n",
    "\n",
    "for i in range(nb_sim):\n",
    "    nb_speakers_from_file, nb_persons_frame, contents, frame_id, \\\n",
    "           nb_persons_changes = parse_detections(input_dir, read_nb_speakers)\n",
    "    independent_simulation(input_dir, nb_persons_frame, contents, frame_id, \n",
    "                       speech_prob=0.5)\n",
    "    li_MOTA[i], MOTP, SA, li_MOTSA[i] = compute_metrics(input_dir + os.sep + \"groundTruth.txt\", input_dir + os.sep + \"independent_random_predictions.txt\")\n",
    "    if (i+1) % 100 == 1:\n",
    "        print(\"Finished replicate \" + str(i+1))"
   ]
  },
  {
   "cell_type": "code",
   "execution_count": 12,
   "metadata": {},
   "outputs": [
    {
     "data": {
      "image/png": "[encoded data removed]",
      "text/plain": [
       "<matplotlib.figure.Figure at 0x7f525b14b6d0>"
      ]
     },
     "metadata": {},
     "output_type": "display_data"
    }
   ],
   "source": [
    "from matplotlib.pyplot import figure\n",
    "import matplotlib.pyplot as plt\n",
    "# import scipy\n",
    "fig = figure(figsize=(13, 7))\n",
    "fig.add_subplot(1,2,1)\n",
    "\n",
    "plt.hist(li_MOTSA)\n",
    "plt.title(\"histogram: Ind. Unif. MOTSA\")\n",
    "\n",
    "fig.add_subplot(1,2,2)\n",
    "plt.hist(li_MOTA)\n",
    "plt.title(\"histogram: Ind. Unif. MOTA\")\n",
    "\n",
    "plt.show()"
   ]
  },
  {
   "cell_type": "code",
   "execution_count": 13,
   "metadata": {},
   "outputs": [
    {
     "data": {
      "image/png": "[encoded data removed]",
      "text/plain": [
       "<matplotlib.figure.Figure at 0x7f525b111b50>"
      ]
     },
     "metadata": {},
     "output_type": "display_data"
    }
   ],
   "source": [
    "from matplotlib.pyplot import figure\n",
    "import matplotlib.pyplot as plt\n",
    "# import scipy\n",
    "fig = figure(figsize=(13, 7))\n",
    "fig.add_subplot(1,2,1)\n",
    "\n",
    "plt.hist(li_MOTSA)\n",
    "plt.title(\"histogram: Ind. Unif. MOTSA\")\n",
    "\n",
    "fig.add_subplot(1,2,2)\n",
    "plt.hist(li_MOTA)\n",
    "plt.title(\"histogram: Ind. Unif. MOTA\")\n",
    "\n",
    "plt.show()"
   ]
  },
  {
   "cell_type": "markdown",
   "metadata": {},
   "source": [
    "### Monte-Carlo evaluation of dependent_simulation"
   ]
  },
  {
   "cell_type": "code",
   "execution_count": 14,
   "metadata": {},
   "outputs": [
    {
     "name": "stdout",
     "output_type": "stream",
     "text": [
      "Finished replicate 1\n",
      "Finished replicate 101\n",
      "Finished replicate 201\n",
      "Finished replicate 301\n",
      "Finished replicate 401\n",
      "Finished replicate 501\n",
      "Finished replicate 601\n",
      "Finished replicate 701\n",
      "Finished replicate 801\n",
      "Finished replicate 901\n"
     ]
    }
   ],
   "source": [
    "ld_MOTSA = [-1.] * nb_sim\n",
    "ld_MOTA = [-1.] * nb_sim\n",
    "\n",
    "for i in range(nb_sim):\n",
    "    nb_speakers_from_file, nb_persons_frame, contents, frame_id, \\\n",
    "           nb_persons_changes = parse_detections(input_dir, read_nb_speakers)\n",
    "    dependent_simulation(input_dir, nb_persons_frame, contents, frame_id, \n",
    "                         nb_persons_changes, speech_change_prob=0.5)\n",
    "    ld_MOTA[i], MOTP, SA, ld_MOTSA[i] = compute_metrics(input_dir + os.sep + \"groundTruth.txt\", input_dir + os.sep + \"dependent_random_predictions.txt\")\n",
    "    if (i+1) % 100 == 1:\n",
    "        print(\"Finished replicate \" + str(i+1))"
   ]
  },
  {
   "cell_type": "code",
   "execution_count": 15,
   "metadata": {},
   "outputs": [
    {
     "data": {
      "image/png": "[encoded data removed]",
      "text/plain": [
       "<matplotlib.figure.Figure at 0x7f525b72c310>"
      ]
     },
     "metadata": {},
     "output_type": "display_data"
    }
   ],
   "source": [
    "fig = figure(figsize=(13, 7))\n",
    "fig.add_subplot(1,2,1)\n",
    "\n",
    "plt.hist(ld_MOTSA)\n",
    "plt.title(\"histogram: MC MOTSA\")\n",
    "\n",
    "fig.add_subplot(1,2,2)\n",
    "plt.hist(ld_MOTA)\n",
    "plt.title(\"histogram: MC MOTA\")\n",
    "\n",
    "plt.show()"
   ]
  },
  {
   "cell_type": "code",
   "execution_count": 16,
   "metadata": {},
   "outputs": [
    {
     "data": {
      "text/plain": [
       "{0.92060267479261892,\n",
       " 0.92077196546470286,\n",
       " 0.9209412561367869,\n",
       " 0.92111054680887083,\n",
       " 0.92127983748095477,\n",
       " 0.92144912815303881,\n",
       " 0.92161841882512274,\n",
       " 0.92178770949720668,\n",
       " 0.92195700016929072,\n",
       " 0.92212629084137465,\n",
       " 0.92229558151345858,\n",
       " 0.92246487218554263,\n",
       " 0.92263416285762656,\n",
       " 0.92280345352971049,\n",
       " 0.92297274420179454,\n",
       " 0.92314203487387847,\n",
       " 0.92348061621804645}"
      ]
     },
     "execution_count": 16,
     "metadata": {},
     "output_type": "execute_result"
    }
   ],
   "source": [
    "set(ld_MOTA)"
   ]
  },
  {
   "cell_type": "code",
   "execution_count": null,
   "metadata": {},
   "outputs": [],
   "source": []
  }
 ],
 "metadata": {
  "kernelspec": {
   "display_name": "Python 2",
   "language": "python",
   "name": "python2"
  },
  "language_info": {
   "codemirror_mode": {
    "name": "ipython",
    "version": 2
   },
   "file_extension": ".py",
   "mimetype": "text/x-python",
   "name": "python",
   "nbconvert_exporter": "python",
   "pygments_lexer": "ipython2",
   "version": "2.7.16"
  }
 },
 "nbformat": 4,
 "nbformat_minor": 2
}
